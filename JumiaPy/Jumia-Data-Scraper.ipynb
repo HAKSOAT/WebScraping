{
 "cells": [
  {
   "cell_type": "code",
   "execution_count": 2,
   "metadata": {},
   "outputs": [],
   "source": [
    "#Importing the major libraries needed for web scraping\n",
    "import requests\n",
    "import re\n",
    "import pandas as pd\n",
    "from bs4 import BeautifulSoup as bso"
   ]
  },
  {
   "cell_type": "code",
   "execution_count": 2,
   "metadata": {},
   "outputs": [],
   "source": [
    "\n",
    "class JumiaProduct(object):\n",
    "    \"\"\"\n",
    "    This class parses the products section pages of jumia.com.ng,\n",
    "    then it extracts some data such as the product names, prices, ratings, number of sales,\n",
    "    links.\n",
    "    \n",
    "    You instantiate this class, by passing in:\n",
    "             a valid section link as a parameter (a string) \n",
    "             the start page number (an integer)\n",
    "             the end page number (an integer)\n",
    "    \n",
    "    The link should be the first page of section without having page number in the string:\n",
    "    \n",
    "    Correct: https://www.jumia.com.ng/mobile-phones/\n",
    "             https://www.jumia.com.ng/beauty-corner/\n",
    "             \n",
    "    Wrong:   https://www.jumia.com.ng/mobile-phones/?page=1\n",
    "             https://www.jumia.com.ng/beauty-corner/?page=1\n",
    "    \n",
    "    \n",
    "    Example: JumiaProduct(\"https://www.jumia.com.ng/mobile-phones/\", 2, 4)\n",
    "    \n",
    "    If link is wrong, it returns an InvalidLink error.\n",
    "    \n",
    "    It has the following methods:\n",
    "    \n",
    "       get_pages()\n",
    "       get_products()\n",
    "       get_links()\n",
    "       get_prices()\n",
    "       get_names()\n",
    "       get_ratings()\n",
    "       get_sales()  \n",
    "    \n",
    "    \"\"\"\n",
    "    \n",
    "    def __init__(self, category_link, start_page, end_page):\n",
    "        \n",
    "        if requests.get(category_link).status_code != 200:\n",
    "            raise ConnectionError(\"This link is invalid\")\n",
    "        \n",
    "        if (\".html\" or \"?\") in section_link:\n",
    "            raise Exception(\"This link doesn't lead to a Jumia category\")\n",
    "        \n",
    "        if (type(start_page) or type(end_page)) != int:\n",
    "            raise TypeError(\"start_page and end_page should be integers\")\n",
    "            \n",
    "        \n",
    "        self.category_link = category_link\n",
    "        self.start_page = start_page\n",
    "        self.end_page = end_page\n",
    "        self.pages = []\n",
    "        self.products = []\n",
    "        self.names = []\n",
    "        self.links = []\n",
    "        self.prices = []\n",
    "        self.ratings = []\n",
    "        self.rated_sales = []\n",
    "        \n",
    "        \n",
    "    def get_pages(self):\n",
    "        \"\"\"\n",
    "        \n",
    "        This method is used to get the html pages of products from\n",
    "        the section link provided.\n",
    "        \n",
    "        It returns a list of the html pages.\n",
    "        \n",
    "        \"\"\"\n",
    "        \n",
    "        for page_number in range(self.start_page, self.end_page + 1):\n",
    "                address_extension = \"?page={}\".format(page_number)\n",
    "                full_address = self.category_link + address_extension\n",
    "                html_request = requests.get(full_address)\n",
    "                html_content = html_request.content\n",
    "                page = bso(html_content, \"html.parser\").find(\"section\", {\"class\":\"products -mabaya\"})\n",
    "                self.pages.append(page)   \n",
    "                \n",
    "    def get_products(self): \n",
    "        \"\"\"\n",
    "        \n",
    "        This method is used to get the products from\n",
    "        the section link provided.\n",
    "        \n",
    "        It returns a list of the products.\n",
    "        \n",
    "        \"\"\"\n",
    "        \n",
    "        for page in self.pages:\n",
    "            class_value = re.compile(r\"(?:^mabaya sku -gallery$)|(?:^sku -gallery$)|(?:^sku -gallery.+$)\")\n",
    "            self.products += each_page.find_all(\"div\", {\"class\": class_value})  \n",
    "          \n",
    "    def get_links(self):\n",
    "        \"\"\"\n",
    "        \n",
    "        It takes in a list of html pages already parsed by the get_pages method\n",
    "        and further parses them to get the link\n",
    "        to every product.\n",
    "        \n",
    "        It returns a list of the product links\n",
    "        \n",
    "        \"\"\"\n",
    "        \n",
    "        for product in self.products:\n",
    "            self.links.append(product.find(\"a\")[\"href\"])\n",
    "    \n",
    "    def get_names():\n",
    "        \"\"\"\n",
    "        \n",
    "        It takes in a list of html pages already parsed by the get_pages method\n",
    "        and further and parses them to get the name\n",
    "        of every product.\n",
    "        \n",
    "        It returns a list of the product names\n",
    "        \n",
    "        \"\"\"\n",
    "        \n",
    "        for product in self.products:\n",
    "            self.names.append(product.find(\"span\", {\"class\": \"name\"}).text)\n",
    "        \n",
    "    def get_prices():\n",
    "        \"\"\"\n",
    "        \n",
    "        It takes in a list of html pages already parsed by the get_pages method\n",
    "        and further and parses them to get the price\n",
    "        of every product.\n",
    "        \n",
    "        It returns a list of the product prices\n",
    "        \n",
    "        \"\"\"\n",
    "        \n",
    "        for product in self.products:\n",
    "            self.prices.append(product.find(\"span\", {\"data-price\": re.compile(r\"\\d+\")}).text)\n",
    "        \n",
    "    def get_ratings():\n",
    "        \"\"\"\n",
    "        \n",
    "        It takes in a list of html pages already parsed by the get_pages method\n",
    "        and further and parses them to get the rating\n",
    "        of every product.\n",
    "        \n",
    "        It returns a list of the product ratings\n",
    "        \n",
    "        \"\"\"\n",
    "        \n",
    "        for product in self.products:\n",
    "            if each.find(\"div\", {\"class\": \"stars\"}) == None:\n",
    "                self.ratings.append(\"No Rating\")\n",
    "            else:\n",
    "                rating_tag = each.find(\"div\", {\"class\": \"stars\"})[\"style\"]\n",
    "                rating_re = re.compile(r\"[0-9]+\")\n",
    "                stars = format(int(rating_re.findall(rating_tag)[0])/100 * 5, '.2f')\n",
    "                self.ratings.append(stars)\n",
    "    \n",
    "    def get_rated_sales():\n",
    "        \"\"\"\n",
    "        \n",
    "        It takes in a list of html pages already parsed by the get_pages method\n",
    "        and further and parses them to get the number of sales\n",
    "        of every product.\n",
    "        \n",
    "        It returns a list of the product sales number\n",
    "        \n",
    "        \"\"\"\n",
    "\n",
    "        for product in self.products:\n",
    "            if product.find(\"div\", {\"class\": \"total-ratings\"}) == None:\n",
    "                self.rated_sales.append(\"No Rated Sales\")\n",
    "            else:\n",
    "                rated_sales_re = re.compile(r\"[0-9]+\")\n",
    "                dirty_sales = each.find(\"div\", {\"class\": \"total-ratings\"}).text\n",
    "                print(rated_sales_re.findall(dirty_sales)[0])"
   ]
  },
  {
   "cell_type": "code",
   "execution_count": 16,
   "metadata": {},
   "outputs": [],
   "source": [
    "ade = requests.get(\"https://www.jumia.com.ng/beauty-corner/\")"
   ]
  },
  {
   "cell_type": "code",
   "execution_count": 30,
   "metadata": {
    "scrolled": false
   },
   "outputs": [
    {
     "name": "stdout",
     "output_type": "stream",
     "text": [
      "379\n",
      "No Rated Sales\n",
      "No Rated Sales\n",
      "122\n",
      "29\n",
      "171\n",
      "3\n",
      "146\n",
      "226\n",
      "182\n",
      "45\n",
      "523\n",
      "93\n",
      "214\n",
      "65\n",
      "805\n",
      "55\n",
      "51\n",
      "No Rated Sales\n",
      "132\n",
      "78\n",
      "8\n",
      "2\n",
      "8\n",
      "798\n",
      "6\n",
      "22\n",
      "35\n",
      "3\n",
      "No Rated Sales\n",
      "2\n",
      "No Rated Sales\n",
      "28\n",
      "16\n",
      "61\n",
      "No Rated Sales\n",
      "69\n",
      "25\n",
      "13\n",
      "477\n"
     ]
    }
   ],
   "source": [
    "ade2 = ade.content\n",
    "ade_html = bso(ade2, \"html.parser\").find(\"section\", {\"class\":\"products -mabaya\"})\n",
    "ade3 = ade_html.find_all(\"div\", {\"class\": re.compile(r\"(?:^mabaya sku -gallery$)|(?:^sku -gallery$)|(?:^sku -gallery.+$)\")})\n",
    "for each in ade3:\n",
    "    if each.find(\"div\", {\"class\": \"total-ratings\"}) == None:\n",
    "                print(\"No Rated Sales\")\n",
    "    else:\n",
    "        rated_sales_re = re.compile(r\"[0-9]+\")\n",
    "        dirty_sales = each.find(\"div\", {\"class\": \"total-ratings\"}).text\n",
    "        print(rated_sales_re.findall(dirty_sales)[0])\n",
    "#.find(\"span\", {\"class\": \"price \"}).get_text()\n",
    "#.find(\"span\", {\"data-price\": re.compile(r\"\\d+\")}).text"
   ]
  },
  {
   "cell_type": "code",
   "execution_count": 1,
   "metadata": {
    "scrolled": true
   },
   "outputs": [
    {
     "name": "stderr",
     "output_type": "stream",
     "text": [
      "/usr/local/lib/python3.5/dist-packages/requests/__init__.py:80: RequestsDependencyWarning: urllib3 (1.21.1) or chardet (2.3.0) doesn't match a supported version!\n",
      "  RequestsDependencyWarning)\n"
     ]
    },
    {
     "name": "stdout",
     "output_type": "stream",
     "text": [
      "2.18.1\n"
     ]
    }
   ],
   "source": [
    "import requests\n",
    "print(requests.__version__)"
   ]
  },
  {
   "cell_type": "code",
   "execution_count": 77,
   "metadata": {},
   "outputs": [
    {
     "data": {
      "text/plain": [
       "['__abs__',\n",
       " '__add__',\n",
       " '__bool__',\n",
       " '__class__',\n",
       " '__delattr__',\n",
       " '__dir__',\n",
       " '__divmod__',\n",
       " '__doc__',\n",
       " '__eq__',\n",
       " '__float__',\n",
       " '__floordiv__',\n",
       " '__format__',\n",
       " '__ge__',\n",
       " '__getattribute__',\n",
       " '__getformat__',\n",
       " '__getnewargs__',\n",
       " '__gt__',\n",
       " '__hash__',\n",
       " '__init__',\n",
       " '__int__',\n",
       " '__le__',\n",
       " '__lt__',\n",
       " '__mod__',\n",
       " '__mul__',\n",
       " '__ne__',\n",
       " '__neg__',\n",
       " '__new__',\n",
       " '__pos__',\n",
       " '__pow__',\n",
       " '__radd__',\n",
       " '__rdivmod__',\n",
       " '__reduce__',\n",
       " '__reduce_ex__',\n",
       " '__repr__',\n",
       " '__rfloordiv__',\n",
       " '__rmod__',\n",
       " '__rmul__',\n",
       " '__round__',\n",
       " '__rpow__',\n",
       " '__rsub__',\n",
       " '__rtruediv__',\n",
       " '__setattr__',\n",
       " '__setformat__',\n",
       " '__sizeof__',\n",
       " '__str__',\n",
       " '__sub__',\n",
       " '__subclasshook__',\n",
       " '__truediv__',\n",
       " '__trunc__',\n",
       " 'as_integer_ratio',\n",
       " 'conjugate',\n",
       " 'fromhex',\n",
       " 'hex',\n",
       " 'imag',\n",
       " 'is_integer',\n",
       " 'real']"
      ]
     },
     "execution_count": 77,
     "metadata": {},
     "output_type": "execute_result"
    }
   ],
   "source": [
    "dir(float)"
   ]
  },
  {
   "cell_type": "code",
   "execution_count": 13,
   "metadata": {},
   "outputs": [],
   "source": [
    "asd = \"(234)\""
   ]
  },
  {
   "cell_type": "code",
   "execution_count": 14,
   "metadata": {},
   "outputs": [
    {
     "ename": "TypeError",
     "evalue": "Can't convert 'list' object to str implicitly",
     "output_type": "error",
     "traceback": [
      "\u001b[0;31m---------------------------------------------------------------------------\u001b[0m",
      "\u001b[0;31mTypeError\u001b[0m                                 Traceback (most recent call last)",
      "\u001b[0;32m<ipython-input-14-10299fe5d909>\u001b[0m in \u001b[0;36m<module>\u001b[0;34m()\u001b[0m\n\u001b[0;32m----> 1\u001b[0;31m \u001b[0masf\u001b[0m \u001b[0;34m=\u001b[0m \u001b[0masd\u001b[0m\u001b[0;34m.\u001b[0m\u001b[0mreplace\u001b[0m\u001b[0;34m(\u001b[0m\u001b[0;34m[\u001b[0m\u001b[0;34m\"(\"\u001b[0m\u001b[0;34m,\u001b[0m\u001b[0;34m\")\"\u001b[0m\u001b[0;34m]\u001b[0m\u001b[0;34m,\u001b[0m \u001b[0;34m\"\"\u001b[0m\u001b[0;34m)\u001b[0m\u001b[0;34m\u001b[0m\u001b[0m\n\u001b[0m",
      "\u001b[0;31mTypeError\u001b[0m: Can't convert 'list' object to str implicitly"
     ]
    }
   ],
   "source": [
    "asf = asd.replace([\"(\",\")\"], \"\")"
   ]
  },
  {
   "cell_type": "code",
   "execution_count": 12,
   "metadata": {},
   "outputs": [
    {
     "data": {
      "text/plain": [
       "'234)'"
      ]
     },
     "execution_count": 12,
     "metadata": {},
     "output_type": "execute_result"
    }
   ],
   "source": [
    "asf"
   ]
  },
  {
   "cell_type": "code",
   "execution_count": null,
   "metadata": {},
   "outputs": [],
   "source": []
  }
 ],
 "metadata": {
  "kernelspec": {
   "display_name": "Python 3",
   "language": "python",
   "name": "python3"
  },
  "language_info": {
   "codemirror_mode": {
    "name": "ipython",
    "version": 3
   },
   "file_extension": ".py",
   "mimetype": "text/x-python",
   "name": "python",
   "nbconvert_exporter": "python",
   "pygments_lexer": "ipython3",
   "version": "3.5.2"
  }
 },
 "nbformat": 4,
 "nbformat_minor": 2
}
