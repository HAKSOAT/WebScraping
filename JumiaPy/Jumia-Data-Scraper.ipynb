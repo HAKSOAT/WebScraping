{
 "cells": [
  {
   "cell_type": "code",
   "execution_count": 5,
   "metadata": {},
   "outputs": [],
   "source": [
    "#Importing the major libraries needed for web scraping\n",
    "import requests\n",
    "import re\n",
    "import pandas as pd\n",
    "from bs4 import BeautifulSoup as bso"
   ]
  },
  {
   "cell_type": "code",
   "execution_count": 2,
   "metadata": {},
   "outputs": [],
   "source": [
    "\n",
    "class JumiaProduct(object):\n",
    "    \"\"\"\n",
    "    This class parses the products section pages of jumia.com.ng,\n",
    "    then it extracts some data such as the product names, prices, ratings, number of sales,\n",
    "    links.\n",
    "    \n",
    "    You instantiate this class, by passing in:\n",
    "             a valid section link as a parameter (a string) \n",
    "             the start page number (an integer)\n",
    "             the end page number (an integer)\n",
    "    \n",
    "    The link should be the first page of section without having page number in the string:\n",
    "    \n",
    "    Correct: https://www.jumia.com.ng/mobile-phones/\n",
    "             https://www.jumia.com.ng/beauty-corner/\n",
    "             \n",
    "    Wrong:   https://www.jumia.com.ng/mobile-phones/?page=1\n",
    "             https://www.jumia.com.ng/beauty-corner/?page=1\n",
    "    \n",
    "    \n",
    "    Example: JumiaProduct(\"https://www.jumia.com.ng/mobile-phones/\", 2, 4)\n",
    "    \n",
    "    If link is wrong, it returns an InvalidLink error.\n",
    "    \n",
    "    It has the following methods:\n",
    "    \n",
    "       get_pages()\n",
    "       get_products()\n",
    "       get_links()\n",
    "       get_prices()\n",
    "       get_names()\n",
    "       get_ratings()\n",
    "       get_sales()  \n",
    "    \n",
    "    \"\"\"\n",
    "    \n",
    "    def __init__(self, category_link, start_page, end_page):\n",
    "        \n",
    "        if requests.get(category_link).status_code != 200:\n",
    "            raise ConnectionError(\"This link is invalid\")\n",
    "        \n",
    "        if (\".html\" or \"?\") in section_link:\n",
    "            raise Exception(\"This link doesn't lead to a Jumia category\")\n",
    "        \n",
    "        if (type(start_page) or type(end_page)) != int:\n",
    "            raise TypeError(\"start_page and end_page should be integers\")\n",
    "            \n",
    "        \n",
    "        self.category_link = category_link\n",
    "        self.start_page = start_page\n",
    "        self.end_page = end_page\n",
    "        self.pages = []\n",
    "        self.products = []\n",
    "        self.names = []\n",
    "        self.links = []\n",
    "        self.prices = []\n",
    "        self.ratings = []\n",
    "        self.sales = []\n",
    "        \n",
    "        \n",
    "    def get_pages(self):\n",
    "        \"\"\"\n",
    "        \n",
    "        This method is used to get the html pages of products from\n",
    "        the section link provided.\n",
    "        \n",
    "        It returns a list of the html pages.\n",
    "        \n",
    "        \"\"\"\n",
    "        \n",
    "        for page_number in range(self.start_page, self.end_page + 1):\n",
    "                address_extension = \"?page={}\".format(page_number)\n",
    "                full_address = self.category_link + address_extension\n",
    "                html_request = requests.get(full_address)\n",
    "                html_content = html_request.content\n",
    "                page = bso(html_content, \"html.parser\").find(\"section\", {\"class\":\"products -mabaya\"})\n",
    "                self.pages.append(page)   \n",
    "                \n",
    "    def get_products(self): \n",
    "        \"\"\"\n",
    "        \n",
    "        This method is used to get the products from\n",
    "        the section link provided.\n",
    "        \n",
    "        It returns a list of the products.\n",
    "        \n",
    "        \"\"\"\n",
    "        \n",
    "        for page in self.pages:\n",
    "            self.products += each_page.find_all(\"div\", {\"class\": re.compile(r\"(?:^mabaya sku -gallery$)|(?:^sku -gallery$)\")})  \n",
    "          \n",
    "    def get_links(self):\n",
    "        \"\"\"\n",
    "        \n",
    "        It takes in a list of html pages already parsed by the get_pages method\n",
    "        and further parses them to get the link\n",
    "        to every product.\n",
    "        \n",
    "        It returns a list of the product links\n",
    "        \n",
    "        \"\"\"\n",
    "        \n",
    "        for product in self.products:\n",
    "            self.links.append(product.find(\"a\")[\"href\"])\n",
    "        \n",
    "    def get_prices():\n",
    "        \"\"\"\n",
    "        \n",
    "        It takes in a list of html pages already parsed by the get_pages method\n",
    "        and further and parses them to get the price\n",
    "        of every product.\n",
    "        \n",
    "        It returns a list of the product prices\n",
    "        \n",
    "        \"\"\"\n",
    "    \n",
    "    def get_names():\n",
    "        \"\"\"\n",
    "        \n",
    "        It takes in a list of html pages already parsed by the get_pages method\n",
    "        and further and parses them to get the name\n",
    "        of every product.\n",
    "        \n",
    "        It returns a list of the product names\n",
    "        \n",
    "        \"\"\"\n",
    "        \n",
    "    def get_ratings():\n",
    "        \"\"\"\n",
    "        \n",
    "        It takes in a list of html pages already parsed by the get_pages method\n",
    "        and further and parses them to get the rating\n",
    "        of every product.\n",
    "        \n",
    "        It returns a list of the product ratings\n",
    "        \n",
    "        \"\"\"\n",
    "    \n",
    "    def get_sales():\n",
    "        \"\"\"\n",
    "        \n",
    "        It takes in a list of html pages already parsed by the get_pages method\n",
    "        and further and parses them to get the number of sales\n",
    "        of every product.\n",
    "        \n",
    "        It returns a list of the product sales number\n",
    "        \n",
    "        \"\"\"\n",
    "\n",
    " "
   ]
  },
  {
   "cell_type": "code",
   "execution_count": 26,
   "metadata": {},
   "outputs": [],
   "source": [
    "ade = requests.get(\"https://www.jumia.com.ng/beauty-corner/\")"
   ]
  },
  {
   "cell_type": "code",
   "execution_count": 28,
   "metadata": {
    "scrolled": false
   },
   "outputs": [
    {
     "data": {
      "text/plain": [
       "'https://www.jumia.com.ng/oak-dynasty-edp-for-men-90ml-9815355.html'"
      ]
     },
     "execution_count": 28,
     "metadata": {},
     "output_type": "execute_result"
    }
   ],
   "source": [
    "ade2 = ade.content\n",
    "ade_html = bso(ade2, \"html.parser\").find(\"section\", {\"class\":\"products -mabaya\"})\n",
    "ade3 = ade_html.find_all(\"div\", {\"class\": re.compile(r\"(?:^mabaya sku -gallery$)|(?:^sku -gallery$)\")})\n",
    "ade3[0].find(\"a\")[\"href\"]"
   ]
  },
  {
   "cell_type": "code",
   "execution_count": 1,
   "metadata": {},
   "outputs": [
    {
     "name": "stderr",
     "output_type": "stream",
     "text": [
      "/usr/local/lib/python3.5/dist-packages/requests/__init__.py:80: RequestsDependencyWarning: urllib3 (1.21.1) or chardet (2.3.0) doesn't match a supported version!\n",
      "  RequestsDependencyWarning)\n"
     ]
    },
    {
     "name": "stdout",
     "output_type": "stream",
     "text": [
      "2.18.1\n"
     ]
    }
   ],
   "source": [
    "import requests\n",
    "print(requests.__version__)"
   ]
  },
  {
   "cell_type": "code",
   "execution_count": null,
   "metadata": {},
   "outputs": [],
   "source": []
  }
 ],
 "metadata": {
  "kernelspec": {
   "display_name": "Python 3",
   "language": "python",
   "name": "python3"
  },
  "language_info": {
   "codemirror_mode": {
    "name": "ipython",
    "version": 3
   },
   "file_extension": ".py",
   "mimetype": "text/x-python",
   "name": "python",
   "nbconvert_exporter": "python",
   "pygments_lexer": "ipython3",
   "version": "3.5.2"
  }
 },
 "nbformat": 4,
 "nbformat_minor": 2
}
